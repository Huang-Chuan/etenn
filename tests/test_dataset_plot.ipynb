{
 "cells": [
  {
   "cell_type": "code",
   "execution_count": 1,
   "metadata": {},
   "outputs": [],
   "source": [
    "from plot_stuff import plot_BEV, plot_lidar, draw_gt_boxes3d\n",
    "from loss.box_utils import point_form_3D, point_form_fafe\n",
    "from label import get_labels, reshape_labels\n",
    "from config import InputConfig\n",
    "import mayavi.mlab\n",
    "import pykitti\n",
    "import numpy as np\n",
    "import kitti_dataset\n",
    "import time\n",
    "import os"
   ]
  },
  {
   "cell_type": "code",
   "execution_count": 2,
   "metadata": {},
   "outputs": [],
   "source": [
    "INPUT_CONFIG = {'x_min': 0,\n",
    "                'x_max': 70,\n",
    "                'x_grid_size': 0.2,\n",
    "                'y_min': -40,\n",
    "                'y_max': 40,\n",
    "                'y_grid_size': 0.2,\n",
    "                'z_min': -3,\n",
    "                'z_max': 1,\n",
    "                'z_grid_size': 0.2,\n",
    "                'num_point_features': 3,\n",
    "                'num_conseq_frames': 5,\n",
    "                'num_reg_targets': 6,\n",
    "                'num_anchors': 5,\n",
    "                'num_classes': 1,\n",
    "                'dim_gt_targets': 6,\n",
    "                'max_targets_forever': 50,\n",
    "                'lambda_smoothL1': 0.9,\n",
    "                'alpha_factor': 0.5,\n",
    "                'gamma': 2,\n",
    "                'beta': 0.1,\n",
    "                'anchors': [[1, 2],\n",
    "                            [1, 3],\n",
    "                            [2, 3],\n",
    "                            [2, 4],\n",
    "                            [2, 5]]}\n",
    "\n",
    "mayavi.mlab.options.offscreen = False"
   ]
  },
  {
   "cell_type": "code",
   "execution_count": 6,
   "metadata": {},
   "outputs": [
    {
     "name": "stdout",
     "output_type": "stream",
     "text": [
      "torch.Size([294, 50, 6])\n",
      "torch.Size([50])\n",
      "torch.Size([3, 6])\n",
      "Saved  testplot.png\n"
     ]
    }
   ],
   "source": [
    "root_dir = '/Users/erikbohnsack/data'\n",
    "sequence = 10\n",
    "frame = 5\n",
    "input_config = InputConfig(INPUT_CONFIG)\n",
    "label_path = os.path.join(root_dir, 'training', 'label_2', str(sequence).zfill(4) + '.txt')\n",
    "labels, max_frame_idx = get_labels(label_path)\n",
    "reshaped_labels = reshape_labels(labels, input_config)\n",
    "print(reshaped_labels.shape)\n",
    "non_zero_gt_mask = reshaped_labels[frame, ...].sum(dim=1) != 0\n",
    "print(non_zero_gt_mask.shape)\n",
    "frame_labels = reshaped_labels[frame, non_zero_gt_mask]\n",
    "print(frame_labels.shape)\n",
    "\n",
    "# to 2d point form\n",
    "boxes = point_form_fafe(frame_labels)\n",
    "\n",
    "z_center = - 1\n",
    "z_height = 1.5\n",
    "# to 3d point form\n",
    "boxes_3d = point_form_3D(boxes, z_center, z_height)\n",
    "\n",
    "fig = plot_lidar(root_dir, sequence, frame, split='training')\n",
    "fig = draw_gt_boxes3d(boxes_3d, fig)\n",
    "filename_top='testplot_top.png'\n",
    "filename='testplot.png'\n",
    "mayavi.mlab.view(azimuth=90, elevation=0, focalpoint=[12.0909996, -1.04700089, -2.03249991], distance=82.0, figure=fig)\n",
    "mayavi.mlab.savefig(filename_top, figure=fig)\n",
    "mayavi.mlab.view(azimuth=180, elevation=70, focalpoint=[12.0909996, -1.04700089, -2.03249991], distance=82.0, figure=fig)\n",
    "mayavi.mlab.savefig(filename, figure=fig)\n",
    "\n",
    "print(\"Saved \", filename)\n",
    "\n"
   ]
  },
  {
   "cell_type": "code",
   "execution_count": null,
   "metadata": {},
   "outputs": [],
   "source": []
  },
  {
   "cell_type": "code",
   "execution_count": null,
   "metadata": {},
   "outputs": [],
   "source": [
    "conf = InputConfig(INPUT_CONFIG)\n",
    "basepath = \"/Users/erikbohnsack/data/training\"\n",
    "\n",
    "tracking = pykitti.tracking(base_path=basepath, sequence=\"0014\")\n",
    "points = tracking.get_velo(3)\n",
    "bev_map = np.zeros(conf.bev_shape)\n",
    "print(\"BEV map size: {}\".format(bev_map.shape))\n",
    "\n",
    "grid_limits = np.array([[conf.x_min, conf.x_max],\n",
    "                        [conf.y_min, conf.y_max],\n",
    "                        [conf.z_min, conf.z_max]])\n",
    "grid_sizes = np.array([conf.x_grid_size, conf.y_grid_size, conf.z_grid_size])\n",
    "\n",
    "start_jit = time.time()\n",
    "kitti_dataset.format_to_BEV_jit(bev_map, points, grid_limits, grid_sizes)\n",
    "end_jit = time.time()\n",
    "print(\"Elapsed time: {}\".format(end_jit - start_jit))\n",
    "\n",
    "for i in range(bev_map.shape[2]):\n",
    "    print(\"Plot height channel: {}\".format(i))\n",
    "    print(type(bev_map))\n",
    "    print(np.expand_dims(bev_map[:,:,i], 2).shape)\n",
    "    plot_BEV(np.expand_dims(bev_map[:,:,i], 2))\n"
   ]
  },
  {
   "cell_type": "code",
   "execution_count": null,
   "metadata": {},
   "outputs": [],
   "source": []
  }
 ],
 "metadata": {
  "kernelspec": {
   "display_name": "Python 3",
   "language": "python",
   "name": "python3"
  },
  "language_info": {
   "codemirror_mode": {
    "name": "ipython",
    "version": 3
   },
   "file_extension": ".py",
   "mimetype": "text/x-python",
   "name": "python",
   "nbconvert_exporter": "python",
   "pygments_lexer": "ipython3",
   "version": "3.7.2"
  }
 },
 "nbformat": 4,
 "nbformat_minor": 2
}
